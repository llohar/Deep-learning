{
  "nbformat": 4,
  "nbformat_minor": 0,
  "metadata": {
    "colab": {
      "name": "cnn.ipynb",
      "provenance": [],
      "collapsed_sections": [],
      "authorship_tag": "ABX9TyNC8XD8d37WD5P5msLlagVI",
      "include_colab_link": true
    },
    "kernelspec": {
      "name": "python3",
      "display_name": "Python 3"
    },
    "language_info": {
      "name": "python"
    }
  },
  "cells": [
    {
      "cell_type": "markdown",
      "metadata": {
        "id": "view-in-github",
        "colab_type": "text"
      },
      "source": [
        "<a href=\"https://colab.research.google.com/github/llohar/Deep-learning/blob/main/cnn.ipynb\" target=\"_parent\"><img src=\"https://colab.research.google.com/assets/colab-badge.svg\" alt=\"Open In Colab\"/></a>"
      ]
    },
    {
      "cell_type": "code",
      "execution_count": null,
      "metadata": {
        "id": "rig_u-Q-IyMU"
      },
      "outputs": [],
      "source": [
        "import numpy as np\n",
        "import h5py\n",
        "import matplotlib.pyplot as plt"
      ]
    },
    {
      "cell_type": "code",
      "source": [
        "# padding the input image\n",
        "def zero_pad(X,pad):\n",
        "  X_pad = np.pad(X,((0,0),(pad,pad),(pad,pad),(0,0)),'constant',constant_values=0)\n",
        "  return X_pad"
      ],
      "metadata": {
        "id": "G1enm6h0JEK1"
      },
      "execution_count": 7,
      "outputs": []
    },
    {
      "cell_type": "code",
      "source": [
        "np.random.seed(1)\n",
        "x = np.random.randn(4,3,3,2)\n",
        "x_pad = zero_pad(x,2)\n",
        "print(\"x.shape is:\",x.shape)\n",
        "print(\"x_pad.shape is:\",x_pad.shape)\n",
        "print(\"x[1,1]:\",x[1,1])\n",
        "print(\"x_pad[1,1]:\",x_pad[1,1])\n",
        "\n",
        "fig,axarr = plt.subplots(1,2)\n",
        "axarr[0].set_title('x')\n",
        "axarr[0].imshow(x[0,:,:,0])\n",
        "axarr[1].set_title('x_pad')\n",
        "axarr[1].imshow(x_pad[0,:,:,0])\n",
        "\n"
      ],
      "metadata": {
        "colab": {
          "base_uri": "https://localhost:8080/",
          "height": 442
        },
        "id": "coYvId5hNiR5",
        "outputId": "430039b7-ec57-453f-ebcf-dbc13910353b"
      },
      "execution_count": 9,
      "outputs": [
        {
          "output_type": "stream",
          "name": "stdout",
          "text": [
            "x.shape is: (4, 3, 3, 2)\n",
            "x_pad.shape is: (4, 7, 7, 2)\n",
            "x[1,1]: [[ 0.90085595 -0.68372786]\n",
            " [-0.12289023 -0.93576943]\n",
            " [-0.26788808  0.53035547]]\n",
            "x_pad[1,1]: [[0. 0.]\n",
            " [0. 0.]\n",
            " [0. 0.]\n",
            " [0. 0.]\n",
            " [0. 0.]\n",
            " [0. 0.]\n",
            " [0. 0.]]\n"
          ]
        },
        {
          "output_type": "execute_result",
          "data": {
            "text/plain": [
              "<matplotlib.image.AxesImage at 0x7f8c072f1fd0>"
            ]
          },
          "metadata": {},
          "execution_count": 9
        },
        {
          "output_type": "display_data",
          "data": {
            "text/plain": [
              "<Figure size 432x288 with 2 Axes>"
            ],
            "image/png": "[encoded data removed]"
          },
          "metadata": {
            "needs_background": "light"
          }
        }
      ]
    },
    {
      "cell_type": "code",
      "source": [
        "def conv_single_step(a_slice_prev,W,b):\n",
        "  s = a_slice_prev*W +b\n",
        "  Z = np.sum(s)\n",
        "  return Z"
      ],
      "metadata": {
        "id": "KVAnrw-CQm_g"
      },
      "execution_count": null,
      "outputs": []
    },
    {
      "cell_type": "code",
      "source": [
        "# forward propagation of conv\n",
        "def conv_forward(A_prev,W,b,hparameters):\n",
        "  (m,n_H_prev,n_W_prev,n_C_prev) = A_prev.shape\n",
        "  (f,f,n_C_prev,n_C) = W.shape\n",
        "  stride = hparameters['stride']\n",
        "  pad = hparameters[\"pad\"]\n",
        "  n_H = int((n_H_prev-f+2*pad)/stride)+1\n",
        "  n_W = int((n_W_prev-f+2*pad)/stride)+1\n",
        "  Z = np.zeros(m,n_H,n_W,n_C)\n",
        "  A_prev_pad = np.pad(A_prev,pad)\n",
        "\n",
        "  for i in range(m):  \n",
        "    a_prev_pad = A_prev_pad[i]  # looping over the training examples\n",
        "    for h in range(n_H):\n",
        "      for w in range(n_W):\n",
        "        for c in range(n_C):\n",
        "          vert_start = h*stride\n",
        "          vert_end = verticle_start + f\n",
        "          horiz_start = w*stride\n",
        "          horiz_end = horiz_start + f  # finding the corners of the current slide\n",
        "          a_slice_prev = a_prev_pad[vert_start:vert_end,horiz_start:horiz_end,:]\n",
        "          Z[i,h,w,c] = np.sum(np.multiply(a_slice_prev,W[:,:,:,c])+b[:,:,:,c])\n",
        "\n",
        "  assert(Z.shape == (m,n_H,n_W,n_C))  # making sure the output shape is correct\n",
        "  cache = (A_prev,W,b,hparameters) # saving info in cache for back prop\n",
        "  return Z,cache\n",
        "\n",
        "\n",
        "\n",
        "        \n",
        "\n",
        "\n"
      ],
      "metadata": {
        "id": "wyELMyOaVYGx"
      },
      "execution_count": 10,
      "outputs": []
    },
    {
      "cell_type": "code",
      "source": [
        "# forward pooling layer implimentation\n",
        "def pool_forward(A_prev,hparameters,mode='max'):\n",
        "  (m,n_H_prev,n_W_prev,n_C_prev) = A_prev.shape\n",
        "  f = hparameters['f']\n",
        "  pad = hparameters['pad']\n",
        "  n_H = int((n_H_prev-f)/stride)+1\n",
        "  n_W = int(n_W_prev-f/stride)+1\n",
        "  n_C = n_C_prev\n",
        "  A = np.zeros((m,n_H,n_W,n_C)) # initializing output matrix A\n",
        "  for i in range(m):\n",
        "    for h in range(n_H):\n",
        "      for w in range(n_W):\n",
        "        for c in range(n_C):\n",
        "          vert_start = h*stride\n",
        "          vert_end = vert_start + f\n",
        "          horiz_start = w*stride\n",
        "          horiz_end = horiz_start + f \n",
        "          a_prev_slice = A_prev[i,vert_start:vert_end,horiz_start:horiz_end,c]  # use the corners to define the current slice on the ith training examples of A_prev,channel c\n",
        "          if mode =='max':\n",
        "            A[i,h,w,c] = np.max(a_prev_slice)\n",
        "          elif mode == 'average':\n",
        "            A[i,h,w,c] = np.mean(a_prev_slice)\n",
        "  cache = (A_prev,hparameters)\n",
        "  assert(A.shape == (m,n_H,n_W,c))\n",
        "  return A,cache\n"
      ],
      "metadata": {
        "id": "MW1smHTcdsKZ"
      },
      "execution_count": 11,
      "outputs": []
    },
    {
      "cell_type": "code",
      "source": [
        "# back prop implimenation\n",
        "def conv_backward(dZ,cache):\n",
        "  (A_prev,W,b,hparameters) = cache\n",
        "  (m,n_H,n_W,n_C) = A_prev.shape\n",
        "  (f,f,n_C_prev,n_C) = W.shape\n",
        "  stride = hparameters['stride']\n",
        "  pad = hparameters['pad']\n",
        "  (m,n_H,n_W,n_C) = dZ.shape\n",
        "  dA_prev = np.zeros((m,n_H_prev,n_W_prev,n_C_prev))\n",
        "  dW = np.zeros((f,f,n_C_prev,n_C))\n",
        "  db = np.zeros(b.shape)\n",
        "  A_prev_pad = zero_pad(A_prev,pad)\n",
        "  dA_prev_pad = zero_pad(dA_prev,pad)\n",
        "\n",
        "  for i in range(m):\n",
        "    a_prev_pad = A_prev_pad[i]\n",
        "    da_prev_pad = dA_prev_pad[i]\n",
        "    for h in range(n_H):\n",
        "      for w in range(n_W):\n",
        "        for c in range(n_C):\n",
        "          vert_start = h*stride\n",
        "          vert_end = vert_start + f\n",
        "          horiz_start = w*stride\n",
        "          horiz_end = horiz_start + f\n",
        "          a_slice = a_prev_pad[vert_start:vert_end,horiz_start:horiz_end,:]\n",
        "          da_prev_pad[vert_start:vert_end,horiz_start:horiz_end,:] += W[:,:,:,c]*dZ[i,h,w,c] \n",
        "          dW[:,:,:,c] += da_slice*dZ[i,h,w,c]\n",
        "          db[:,:,:,c] += dZ[i,h,w,c]\n",
        "          \n",
        "\n",
        "\n",
        "\n"
      ],
      "metadata": {
        "id": "Z8ruOdnAh74p"
      },
      "execution_count": null,
      "outputs": []
    }
  ]
}