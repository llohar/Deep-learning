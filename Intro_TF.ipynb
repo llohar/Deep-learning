{
  "nbformat": 4,
  "nbformat_minor": 0,
  "metadata": {
    "colab": {
      "name": "Intro_TF.ipynb",
      "provenance": [],
      "collapsed_sections": [],
      "authorship_tag": "ABX9TyOWotThyNOShrGTEQtKj+3J",
      "include_colab_link": true
    },
    "kernelspec": {
      "name": "python3",
      "display_name": "Python 3"
    },
    "language_info": {
      "name": "python"
    }
  },
  "cells": [
    {
      "cell_type": "markdown",
      "metadata": {
        "id": "view-in-github",
        "colab_type": "text"
      },
      "source": [
        "<a href=\"https://colab.research.google.com/github/llohar/Deep-learning/blob/main/Intro_TF.ipynb\" target=\"_parent\"><img src=\"https://colab.research.google.com/assets/colab-badge.svg\" alt=\"Open In Colab\"/></a>"
      ]
    },
    {
      "cell_type": "code",
      "source": [
        "print(tf.__version__)"
      ],
      "metadata": {
        "colab": {
          "base_uri": "https://localhost:8080/"
        },
        "id": "JdgxertQ6XKX",
        "outputId": "5740a4ed-a609-485c-fdfe-eadce1eeb2fb"
      },
      "execution_count": 27,
      "outputs": [
        {
          "output_type": "stream",
          "name": "stdout",
          "text": [
            "2.8.2\n"
          ]
        }
      ]
    },
    {
      "cell_type": "code",
      "source": [
        "def load_dataset():\n",
        "    train_dataset = h5py.File('/content/train_signs.h5', \"r\")\n",
        "    train_set_x_orig = np.array(train_dataset[\"train_set_x\"][:]) # your train set features\n",
        "    train_set_y_orig = np.array(train_dataset[\"train_set_y\"][:]) # your train set labels\n",
        "\n",
        "    test_dataset = h5py.File('/content/test_signs.h5', \"r\")\n",
        "    test_set_x_orig = np.array(test_dataset[\"test_set_x\"][:]) # your test set features\n",
        "    test_set_y_orig = np.array(test_dataset[\"test_set_y\"][:]) # your test set labels\n",
        "\n",
        "    classes = np.array(test_dataset[\"list_classes\"][:]) # the list of classes\n",
        "    \n",
        "    train_set_y_orig = train_set_y_orig.reshape((1, train_set_y_orig.shape[0]))\n",
        "    test_set_y_orig = test_set_y_orig.reshape((1, test_set_y_orig.shape[0]))\n",
        "    \n",
        "    return train_set_x_orig, train_set_y_orig, test_set_x_orig, test_set_y_orig, classes\n",
        "\n",
        "\n",
        "def random_mini_batches(X, Y, mini_batch_size = 64, seed = 0):\n",
        "    \"\"\"\n",
        "    Creates a list of random minibatches from (X, Y)\n",
        "    \n",
        "    Arguments:\n",
        "    X -- input data, of shape (input size, number of examples)\n",
        "    Y -- true \"label\" vector (containing 0 if cat, 1 if non-cat), of shape (1, number of examples)\n",
        "    mini_batch_size - size of the mini-batches, integer\n",
        "    seed -- this is only for the purpose of grading, so that you're \"random minibatches are the same as ours.\n",
        "    \n",
        "    Returns:\n",
        "    mini_batches -- list of synchronous (mini_batch_X, mini_batch_Y)\n",
        "    \"\"\"\n",
        "    \n",
        "    m = X.shape[1]                  # number of training examples\n",
        "    mini_batches = []\n",
        "    np.random.seed(seed)\n",
        "    \n",
        "    # Step 1: Shuffle (X, Y)\n",
        "    permutation = list(np.random.permutation(m))\n",
        "    shuffled_X = X[:, permutation]\n",
        "    shuffled_Y = Y[:, permutation].reshape((Y.shape[0],m))\n",
        "\n",
        "    # Step 2: Partition (shuffled_X, shuffled_Y). Minus the end case.\n",
        "    num_complete_minibatches = math.floor(m/mini_batch_size) # number of mini batches of size mini_batch_size in your partitionning\n",
        "    for k in range(0, num_complete_minibatches):\n",
        "        mini_batch_X = shuffled_X[:, k * mini_batch_size : k * mini_batch_size + mini_batch_size]\n",
        "        mini_batch_Y = shuffled_Y[:, k * mini_batch_size : k * mini_batch_size + mini_batch_size]\n",
        "        mini_batch = (mini_batch_X, mini_batch_Y)\n",
        "        mini_batches.append(mini_batch)\n",
        "    \n",
        "    # Handling the end case (last mini-batch < mini_batch_size)\n",
        "    if m % mini_batch_size != 0:\n",
        "        mini_batch_X = shuffled_X[:, num_complete_minibatches * mini_batch_size : m]\n",
        "        mini_batch_Y = shuffled_Y[:, num_complete_minibatches * mini_batch_size : m]\n",
        "        mini_batch = (mini_batch_X, mini_batch_Y)\n",
        "        mini_batches.append(mini_batch)\n",
        "    \n",
        "    return mini_batches\n",
        "\n",
        "def convert_to_one_hot(Y, C):\n",
        "    Y = np.eye(C)[Y.reshape(-1)].T\n",
        "    return Y\n",
        "\n",
        "\n",
        "def predict(X, parameters):\n",
        "    \n",
        "    W1 = tf.convert_to_tensor(parameters[\"W1\"])\n",
        "    b1 = tf.convert_to_tensor(parameters[\"b1\"])\n",
        "    W2 = tf.convert_to_tensor(parameters[\"W2\"])\n",
        "    b2 = tf.convert_to_tensor(parameters[\"b2\"])\n",
        "    W3 = tf.convert_to_tensor(parameters[\"W3\"])\n",
        "    b3 = tf.convert_to_tensor(parameters[\"b3\"])\n",
        "    \n",
        "    params = {\"W1\": W1,\n",
        "              \"b1\": b1,\n",
        "              \"W2\": W2,\n",
        "              \"b2\": b2,\n",
        "              \"W3\": W3,\n",
        "              \"b3\": b3}\n",
        "    \n",
        "    x = tf.placeholder(\"float\", [12288, 1])\n",
        "    \n",
        "    z3 = forward_propagation_for_predict(x, params)\n",
        "    p = tf.argmax(z3)\n",
        "    \n",
        "    sess = tf.Session()\n",
        "    prediction = sess.run(p, feed_dict = {x: X})\n",
        "        \n",
        "    return prediction\n",
        "\n",
        "def forward_propagation_for_predict(X, parameters):\n",
        "    \"\"\"\n",
        "    Implements the forward propagation for the model: LINEAR -> RELU -> LINEAR -> RELU -> LINEAR -> SOFTMAX\n",
        "    \n",
        "    Arguments:\n",
        "    X -- input dataset placeholder, of shape (input size, number of examples)\n",
        "    parameters -- python dictionary containing your parameters \"W1\", \"b1\", \"W2\", \"b2\", \"W3\", \"b3\"\n",
        "                  the shapes are given in initialize_parameters\n",
        "    Returns:\n",
        "    Z3 -- the output of the last LINEAR unit\n",
        "    \"\"\"\n",
        "    \n",
        "    # Retrieve the parameters from the dictionary \"parameters\" \n",
        "    W1 = parameters['W1']\n",
        "    b1 = parameters['b1']\n",
        "    W2 = parameters['W2']\n",
        "    b2 = parameters['b2']\n",
        "    W3 = parameters['W3']\n",
        "    b3 = parameters['b3'] \n",
        "                                                           # Numpy Equivalents:\n",
        "    Z1 = tf.add(tf.matmul(W1, X), b1)                      # Z1 = np.dot(W1, X) + b1\n",
        "    A1 = tf.nn.relu(Z1)                                    # A1 = relu(Z1)\n",
        "    Z2 = tf.add(tf.matmul(W2, A1), b2)                     # Z2 = np.dot(W2, a1) + b2\n",
        "    A2 = tf.nn.relu(Z2)                                    # A2 = relu(Z2)\n",
        "    Z3 = tf.add(tf.matmul(W3, A2), b3)                     # Z3 = np.dot(W3,Z2) + b3\n",
        "    \n",
        "    return Z3"
      ],
      "metadata": {
        "id": "xAkuXpgFRvLo"
      },
      "execution_count": 1,
      "outputs": []
    },
    {
      "cell_type": "code",
      "execution_count": 28,
      "metadata": {
        "id": "yYiadJc_PTZx"
      },
      "outputs": [],
      "source": [
        "import numpy as np \n",
        "import pandas as pd\n",
        "import math\n",
        "import h5py\n",
        "import tensorflow as tf\n",
        "import matplotlib.pyplot as plt\n",
        "from tensorflow.python.framework import ops\n"
      ]
    },
    {
      "cell_type": "code",
      "source": [
        "tf.disable_v2_behavior()"
      ],
      "metadata": {
        "id": "FKdje-P8Y5uo"
      },
      "execution_count": null,
      "outputs": []
    },
    {
      "cell_type": "code",
      "source": [
        "# matplotlib inline\n",
        "print(np.random.seed())"
      ],
      "metadata": {
        "id": "olvOjWlXQWQq",
        "colab": {
          "base_uri": "https://localhost:8080/"
        },
        "outputId": "87e1a4ad-5d42-4d3e-95ee-0a1a7dc85f75"
      },
      "execution_count": 4,
      "outputs": [
        {
          "output_type": "stream",
          "name": "stdout",
          "text": [
            "None\n"
          ]
        }
      ]
    },
    {
      "cell_type": "code",
      "source": [
        "# computing loss using tf\n",
        "y_hat = tf.constant(36,name='y_hat')\n",
        "y = tf.constant(39,name='y')\n",
        "\n",
        "loss =tf.Variable((y_hat-y)**2,name='loss')\n",
        "\n",
        "# when init is run later\n",
        "init = tf.compat.v1.global_variables_initializer()\n",
        "\n",
        "with tf.compat.v1.Session() as session: # create a seesion and run the output\n",
        "  session.run(init)           # initializes the variables\n",
        "  print(session.run(loss))    # print the loss\n"
      ],
      "metadata": {
        "colab": {
          "base_uri": "https://localhost:8080/"
        },
        "id": "zNlR31FfVRpF",
        "outputId": "e9d7fee6-33db-48e0-c387-373c9bbc8856"
      },
      "execution_count": 29,
      "outputs": [
        {
          "output_type": "stream",
          "name": "stdout",
          "text": [
            "9\n"
          ]
        }
      ]
    },
    {
      "cell_type": "code",
      "source": [
        "a = tf.constant(2)\n",
        "b = tf.constant(10)\n",
        "c = tf.multiply(a,b)\n",
        "print(c)"
      ],
      "metadata": {
        "colab": {
          "base_uri": "https://localhost:8080/"
        },
        "id": "QeES0n4Qas3U",
        "outputId": "de336879-9a5f-462f-ccc3-6f7394a36124"
      },
      "execution_count": 6,
      "outputs": [
        {
          "output_type": "stream",
          "name": "stdout",
          "text": [
            "Tensor(\"Mul:0\", shape=(), dtype=int32)\n"
          ]
        }
      ]
    },
    {
      "cell_type": "code",
      "source": [
        "session = tf.Session()\n",
        "print(session.run(c))"
      ],
      "metadata": {
        "colab": {
          "base_uri": "https://localhost:8080/"
        },
        "id": "0GXYxkDSayNc",
        "outputId": "f3573b53-9bb1-47bf-aac3-4364e6baf1ef"
      },
      "execution_count": 7,
      "outputs": [
        {
          "output_type": "stream",
          "name": "stdout",
          "text": [
            "20\n"
          ]
        }
      ]
    },
    {
      "cell_type": "code",
      "source": [
        "# placeholder: change the value of x in the feed_dict\n",
        "x = tf.placeholder(tf.int64,name='x')\n",
        "print(session.run(2*x,feed_dict={x:3}))\n",
        "session.close\n"
      ],
      "metadata": {
        "colab": {
          "base_uri": "https://localhost:8080/"
        },
        "id": "NQkWyqbBeQXK",
        "outputId": "ce9f4b9e-1705-494a-f45f-2eed468ffa1f"
      },
      "execution_count": 8,
      "outputs": [
        {
          "output_type": "stream",
          "name": "stdout",
          "text": [
            "6\n"
          ]
        },
        {
          "output_type": "execute_result",
          "data": {
            "text/plain": [
              "<bound method BaseSession.close of <tensorflow.python.client.session.Session object at 0x7fd094fdcf10>>"
            ]
          },
          "metadata": {},
          "execution_count": 8
        }
      ]
    },
    {
      "cell_type": "code",
      "source": [
        "# Linear Function\n",
        "def linear_function():\n",
        "  X = tf.constant(np.random.randn(3,1),name='X')\n",
        "  W = tf.constant(np.random.randn(4,3),name='W')\n",
        "  b = tf.constant(np.random.randn(4,1),name='b')\n",
        "  Y = tf.add(tf.matmul(W,X),b)\n",
        "\n",
        "  session = tf.compat.v1.Session()\n",
        "  result = session.run(Y)\n",
        "  session.close\n",
        "\n",
        "  return result\n"
      ],
      "metadata": {
        "id": "nVQcOcm0fLKv"
      },
      "execution_count": 33,
      "outputs": []
    },
    {
      "cell_type": "code",
      "source": [
        "print(\"result = \"+str(linear_function()))"
      ],
      "metadata": {
        "colab": {
          "base_uri": "https://localhost:8080/"
        },
        "id": "Rb3jUCNZhaWl",
        "outputId": "34458e8f-5df0-4b61-edb4-bb1d1a550e80"
      },
      "execution_count": 34,
      "outputs": [
        {
          "output_type": "stream",
          "name": "stdout",
          "text": [
            "result = [[ 0.72455373]\n",
            " [-1.25678018]\n",
            " [-6.01989151]\n",
            " [-2.88914678]]\n"
          ]
        }
      ]
    },
    {
      "cell_type": "code",
      "source": [
        "# sigmoid function\n",
        "def sigmoid(z):\n",
        "  x = tf.compat.v1.placeholder(tf.float32,name='x')\n",
        "  sigmoid = tf.sigmoid(x)\n",
        "\n",
        "  with tf.compat.v1.Session() as session:\n",
        "    result = session.run(sigmoid,feed_dict ={x:z})\n",
        "  return result\n"
      ],
      "metadata": {
        "id": "txgYhkFfjXhd"
      },
      "execution_count": 37,
      "outputs": []
    },
    {
      "cell_type": "code",
      "source": [
        "print(sigmoid(2))"
      ],
      "metadata": {
        "colab": {
          "base_uri": "https://localhost:8080/"
        },
        "id": "VNf0KXyHmAGZ",
        "outputId": "8cad780d-6a27-4597-a965-507b0b0f3388"
      },
      "execution_count": 38,
      "outputs": [
        {
          "output_type": "stream",
          "name": "stdout",
          "text": [
            "0.8807971\n"
          ]
        }
      ]
    },
    {
      "cell_type": "code",
      "source": [
        "## cost function\n",
        "def cost(logits,labels):\n",
        "  z = tf.compat.v1.placeholder(tf.float32,name='z')\n",
        "  y = tf.compat.v1.placeholder(tf.float32,name='y')\n",
        "  cost = tf.nn.sigmoid_cross_entropy_with_logits(logits=z,labels=y)\n",
        "  sess = tf.compat.v1.Session()\n",
        "  cost = sess.run(cost,feed_dict={z:logits,y:labels})\n",
        "  sess.close()\n",
        "  return cost"
      ],
      "metadata": {
        "id": "I26ItWaoJ-OF"
      },
      "execution_count": 39,
      "outputs": []
    },
    {
      "cell_type": "code",
      "source": [
        "print(cost(5,4))"
      ],
      "metadata": {
        "colab": {
          "base_uri": "https://localhost:8080/"
        },
        "id": "gg5kZK8OL_DS",
        "outputId": "0d246b8b-3a71-460c-cea9-2a6465112476"
      },
      "execution_count": 40,
      "outputs": [
        {
          "output_type": "stream",
          "name": "stdout",
          "text": [
            "-14.993284\n"
          ]
        }
      ]
    },
    {
      "cell_type": "code",
      "source": [
        "# one-hot encoding\n",
        "def one_hot_matrix(labels,C):\n",
        "  C = tf.constant(C,name='C')\n",
        "  one_hot_matrix = tf.one_hot(labels,C,axis=0)\n",
        "  sess = tf.compat.v1.Session()\n",
        "  one_hot = sess.run(one_hot_matrix)\n",
        "  sess.close()\n",
        "  return one_hot\n",
        "\n"
      ],
      "metadata": {
        "id": "Rok490S0MFn6"
      },
      "execution_count": 41,
      "outputs": []
    },
    {
      "cell_type": "code",
      "source": [
        "print(one_hot_matrix(3,5))"
      ],
      "metadata": {
        "colab": {
          "base_uri": "https://localhost:8080/"
        },
        "id": "usg6324XOf2K",
        "outputId": "d9f9f918-b5c8-4e89-c731-94ce7548eff9"
      },
      "execution_count": 42,
      "outputs": [
        {
          "output_type": "stream",
          "name": "stdout",
          "text": [
            "[0. 0. 0. 1. 0.]\n"
          ]
        }
      ]
    },
    {
      "cell_type": "code",
      "source": [
        "# ones\n",
        "def ones(shape):\n",
        "  ones = tf.ones(shape)\n",
        "  sess = tf.compat.v1.Session()\n",
        "  ones = sess.run(ones)\n",
        "  sess.close()\n",
        "  return ones\n",
        "print(ones((5,4)))"
      ],
      "metadata": {
        "colab": {
          "base_uri": "https://localhost:8080/"
        },
        "id": "Gw86E2aoOoyi",
        "outputId": "fbe115f4-5d23-494f-fd87-4d9a67936a46"
      },
      "execution_count": 44,
      "outputs": [
        {
          "output_type": "stream",
          "name": "stdout",
          "text": [
            "[[1. 1. 1. 1.]\n",
            " [1. 1. 1. 1.]\n",
            " [1. 1. 1. 1.]\n",
            " [1. 1. 1. 1.]\n",
            " [1. 1. 1. 1.]]\n"
          ]
        }
      ]
    },
    {
      "cell_type": "code",
      "source": [
        "# signs dataset\n",
        "X_train_orig, Y_train_orig, X_test_orig, Y_test_orig, classes=load_dataset()"
      ],
      "metadata": {
        "id": "2D5t1Pk9PWeK"
      },
      "execution_count": 45,
      "outputs": []
    },
    {
      "cell_type": "code",
      "source": [
        "# Example of a pic\n",
        "index = 0 \n",
        "plt.imshow(X_train_orig[index])\n",
        "print(\"y= \"+str(np.squeeze(Y_train_orig[:,index])))\n"
      ],
      "metadata": {
        "colab": {
          "base_uri": "https://localhost:8080/",
          "height": 285
        },
        "id": "cnRl4Jzofd3x",
        "outputId": "5ff63142-32e3-42c8-8746-da9067caa29b"
      },
      "execution_count": 46,
      "outputs": [
        {
          "output_type": "stream",
          "name": "stdout",
          "text": [
            "y= 5\n"
          ]
        },
        {
          "output_type": "display_data",
          "data": {
            "text/plain": [
              "<Figure size 432x288 with 1 Axes>"
            ],
            "image/png": "[encoded data removed]"
          },
          "metadata": {
            "needs_background": "light"
          }
        }
      ]
    },
    {
      "cell_type": "code",
      "source": [
        "print(Y_train_orig.shape)"
      ],
      "metadata": {
        "colab": {
          "base_uri": "https://localhost:8080/"
        },
        "id": "3Tivtzdg0mBR",
        "outputId": "16a0c4b2-32e5-4697-c9c1-2a2ee38df6b5"
      },
      "execution_count": 47,
      "outputs": [
        {
          "output_type": "stream",
          "name": "stdout",
          "text": [
            "(1, 1080)\n"
          ]
        }
      ]
    },
    {
      "cell_type": "code",
      "source": [
        "# Flatten the training and test images\n",
        "X_train_flatten = X_train_orig.reshape(X_train_orig.shape[0],-1).T\n",
        "X_test_flatten = X_test_orig.reshape(X_test_orig.shape[0],-1).T\n",
        "# Normalize Image vector\n",
        "X_train = X_train_flatten/255\n",
        "X_test = X_test_flatten/255\n",
        "# convert training and test labels to one hot matrices\n",
        "Y_train = convert_to_one_hot(Y_train_orig,6)\n",
        "Y_test = convert_to_one_hot(Y_test_orig,6)\n",
        "\n",
        "print(\"Number of training examples :\" + str(X_train.shape[1]))\n",
        "print(\"Number of test examples :\" + str(X_test.shape[1]))\n",
        "print(\"X_train shape :\" + str(X_train.shape))\n",
        "print(\"X_test shape :\" + str(X_test.shape))\n",
        "print(\"Y_train shape :\" + str(Y_train.shape))\n",
        "print(\"Y_test shape :\" + str(Y_test.shape))\n",
        "\n",
        "\n",
        "\n"
      ],
      "metadata": {
        "colab": {
          "base_uri": "https://localhost:8080/"
        },
        "id": "2xpGQpsYoppe",
        "outputId": "f4a3d129-490c-45af-be28-84cb01a9e1a1"
      },
      "execution_count": 48,
      "outputs": [
        {
          "output_type": "stream",
          "name": "stdout",
          "text": [
            "Number of training examples :1080\n",
            "Number of test examples :120\n",
            "X_train shape :(12288, 1080)\n",
            "X_test shape :(12288, 120)\n",
            "Y_train shape :(6, 1080)\n",
            "Y_test shape :(6, 120)\n"
          ]
        }
      ]
    },
    {
      "cell_type": "code",
      "source": [
        "# Create placeholder\n",
        "def create_placeholder(n_x,n_y):\n",
        "  X = tf.compat.v1.placeholder(tf.float32,[n_x,None],name='X')\n",
        "  Y = tf.compat.v1.placeholder(tf.float32,[n_y,None],name='Y')\n",
        "  return X,Y\n",
        "\n",
        "X,Y = create_placeholder(12288,6)\n",
        "print('x :'+str(X))\n",
        "print('Y :'+str(Y))"
      ],
      "metadata": {
        "id": "uH8DTOcdrfbR",
        "colab": {
          "base_uri": "https://localhost:8080/"
        },
        "outputId": "042eef8a-6d69-4d19-8e60-1ee85e22e79f"
      },
      "execution_count": 49,
      "outputs": [
        {
          "output_type": "stream",
          "name": "stdout",
          "text": [
            "x :Tensor(\"X_5:0\", shape=(12288, ?), dtype=float32)\n",
            "Y :Tensor(\"Y_3:0\", shape=(6, ?), dtype=float32)\n"
          ]
        }
      ]
    },
    {
      "cell_type": "code",
      "source": [
        "# initialize parameters\n",
        "def initialize_parameters():\n",
        "  tf.compat.v1.set_random_seed(1)\n",
        "  W1 = tf.compat.v1.get_variable('W1',[25,12288],initializer=tf.initializers.GlorotUniform())\n",
        "  b1 = tf.compat.v1.get_variable('b1',[25,1],initializer=tf.zeros_initializer())\n",
        "  W2 = tf.compat.v1.get_variable('W2',[12,25],initializer=tf.initializers.GlorotUniform())\n",
        "  b2 = tf.compat.v1.get_variable('b2',[12,1],initializer=tf.zeros_initializer())\n",
        "  W3 = tf.compat.v1.get_variable('W3',[6,12],initializer= tf.initializers.GlorotUniform())\n",
        "  b3 = tf.compat.v1.get_variable('b3',[6,1],initializer=tf.zeros_initializer())\n",
        "\n",
        "  parameters = {\"W1\":W1,\n",
        "                \"b1\":b1,\n",
        "                \"W2\":W2,\n",
        "                \"b2\":b2,\n",
        "                \"W3\":W3,\n",
        "                \"b3\":b3}\n",
        "\n",
        "  return parameters\n",
        "\n",
        "  tf.reset_default_graph()\n",
        "\n",
        "  with tf.Session as sess:\n",
        "    parameters = initialize_parameters()\n",
        "\n",
        "    print('W1'+str(parameters[\"W1\"]))\n",
        "    print('b1'+str(parameters[\"b1\"]))\n",
        "    print('W2'+str(parameters[\"W2\"]))\n",
        "    print('b2'+str(parameters[\"b2\"]))\n",
        "\n",
        "\n",
        "\n",
        "\n",
        "\n",
        "\n",
        "\n"
      ],
      "metadata": {
        "id": "a7D5w1hRDDaq"
      },
      "execution_count": 61,
      "outputs": []
    },
    {
      "cell_type": "code",
      "source": [
        "# forward_propagation\n",
        "def forward_propagation(X,parameters):\n",
        "  W1 = parameters['W1']\n",
        "  b1 = parameters['b1']\n",
        "  W2 = parameters['W2']\n",
        "  b2 = parameters['b2']\n",
        "  W3 = parameters['W3']\n",
        "  b3 = parameters['b3']\n",
        "  Z1 = tf.add(tf.matmul(W1,X),b1)\n",
        "  A1 = tf.nn.relu(Z1)\n",
        "  Z2 = tf.add(tf.matmul(W2,A1),b2)\n",
        "  A2 = tf.nn.relu(Z2)\n",
        "  Z3 = tf.add(tf.matmul(W3,A2),b3)\n",
        "  return Z3\n",
        "\n",
        "\n"
      ],
      "metadata": {
        "id": "Vs030o7gmDtt"
      },
      "execution_count": 62,
      "outputs": []
    },
    {
      "cell_type": "code",
      "source": [
        "tf.compat.v1.reset_default_graph()\n",
        "\n",
        "with tf.compat.v1.Session() as sess:\n",
        "  X,Y = create_placeholder(12288,6)\n",
        "  parameters = initialize_parameters()\n",
        "  Z3 = forward_propagation(X,parameters)\n",
        "  print('Z3'+str(Z3))"
      ],
      "metadata": {
        "id": "eKS2wksRuNn2",
        "colab": {
          "base_uri": "https://localhost:8080/"
        },
        "outputId": "cb48f833-5534-45b0-8d03-16d896ba349f"
      },
      "execution_count": 63,
      "outputs": [
        {
          "output_type": "stream",
          "name": "stdout",
          "text": [
            "Z3Tensor(\"Add_2:0\", shape=(6, ?), dtype=float32)\n"
          ]
        }
      ]
    },
    {
      "cell_type": "code",
      "source": [
        "# cost function\n",
        "def compute_cost(Z3,Y):\n",
        "  logits = tf.transpose(Z3)\n",
        "  labels = tf.transpose(Y)\n",
        "  cost = tf.reduce_mean(tf.nn.softmax_cross_entropy_with_logits(logits=logits,labels=labels))\n",
        "  return cost"
      ],
      "metadata": {
        "id": "AAUXCQ4x9P6v"
      },
      "execution_count": 65,
      "outputs": []
    },
    {
      "cell_type": "code",
      "source": [
        "tf.compat.v1.reset_default_graph()\n",
        "\n",
        "with tf.compat.v1.Session() as sess:\n",
        "  X,Y = create_placeholder(12288,6)\n",
        "  parameters  = initialize_parameters()\n",
        "  Z3 = forward_propagation(X,parameters)\n",
        "  cost = compute_cost(Z3,Y)\n",
        "  print(\"Z3 = \"+str(cost))\n",
        "  "
      ],
      "metadata": {
        "colab": {
          "base_uri": "https://localhost:8080/"
        },
        "id": "33knjf4L_i0O",
        "outputId": "e973745d-d0a4-4284-eef8-af199de8dc21"
      },
      "execution_count": 68,
      "outputs": [
        {
          "output_type": "stream",
          "name": "stdout",
          "text": [
            "Z3 = Tensor(\"Mean:0\", shape=(), dtype=float32)\n"
          ]
        }
      ]
    }
  ]
}