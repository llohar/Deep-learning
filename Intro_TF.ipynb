{
  "nbformat": 4,
  "nbformat_minor": 0,
  "metadata": {
    "colab": {
      "name": "Intro_TF.ipynb",
      "provenance": [],
      "collapsed_sections": [],
      "authorship_tag": "ABX9TyNe07chEN6xNrBBs8OA0rWT",
      "include_colab_link": true
    },
    "kernelspec": {
      "name": "python3",
      "display_name": "Python 3"
    },
    "language_info": {
      "name": "python"
    }
  },
  "cells": [
    {
      "cell_type": "markdown",
      "metadata": {
        "id": "view-in-github",
        "colab_type": "text"
      },
      "source": [
        "<a href=\"https://colab.research.google.com/github/llohar/Deep-learning/blob/main/Intro_TF.ipynb\" target=\"_parent\"><img src=\"https://colab.research.google.com/assets/colab-badge.svg\" alt=\"Open In Colab\"/></a>"
      ]
    },
    {
      "cell_type": "code",
      "source": [
        "print(tf.__version__)"
      ],
      "metadata": {
        "colab": {
          "base_uri": "https://localhost:8080/"
        },
        "id": "JdgxertQ6XKX",
        "outputId": "cdc77718-9cc7-4e71-905d-ce5b5d8278aa"
      },
      "execution_count": 7,
      "outputs": [
        {
          "output_type": "stream",
          "name": "stdout",
          "text": [
            "2.8.2\n"
          ]
        }
      ]
    },
    {
      "cell_type": "code",
      "source": [
        "def load_dataset():\n",
        "    train_dataset = h5py.File('/content/train_signs.h5', \"r\")\n",
        "    train_set_x_orig = np.array(train_dataset[\"train_set_x\"][:]) # your train set features\n",
        "    train_set_y_orig = np.array(train_dataset[\"train_set_y\"][:]) # your train set labels\n",
        "\n",
        "    test_dataset = h5py.File('/content/test_signs.h5', \"r\")\n",
        "    test_set_x_orig = np.array(test_dataset[\"test_set_x\"][:]) # your test set features\n",
        "    test_set_y_orig = np.array(test_dataset[\"test_set_y\"][:]) # your test set labels\n",
        "\n",
        "    classes = np.array(test_dataset[\"list_classes\"][:]) # the list of classes\n",
        "    \n",
        "    train_set_y_orig = train_set_y_orig.reshape((1, train_set_y_orig.shape[0]))\n",
        "    test_set_y_orig = test_set_y_orig.reshape((1, test_set_y_orig.shape[0]))\n",
        "    \n",
        "    return train_set_x_orig, train_set_y_orig, test_set_x_orig, test_set_y_orig, classes\n",
        "\n",
        "\n",
        "def random_mini_batches(X, Y, mini_batch_size = 64, seed = 0):\n",
        "    \"\"\"\n",
        "    Creates a list of random minibatches from (X, Y)\n",
        "    \n",
        "    Arguments:\n",
        "    X -- input data, of shape (input size, number of examples)\n",
        "    Y -- true \"label\" vector (containing 0 if cat, 1 if non-cat), of shape (1, number of examples)\n",
        "    mini_batch_size - size of the mini-batches, integer\n",
        "    seed -- this is only for the purpose of grading, so that you're \"random minibatches are the same as ours.\n",
        "    \n",
        "    Returns:\n",
        "    mini_batches -- list of synchronous (mini_batch_X, mini_batch_Y)\n",
        "    \"\"\"\n",
        "    \n",
        "    m = X.shape[1]                  # number of training examples\n",
        "    mini_batches = []\n",
        "    np.random.seed(seed)\n",
        "    \n",
        "    # Step 1: Shuffle (X, Y)\n",
        "    permutation = list(np.random.permutation(m))\n",
        "    shuffled_X = X[:, permutation]\n",
        "    shuffled_Y = Y[:, permutation].reshape((Y.shape[0],m))\n",
        "\n",
        "    # Step 2: Partition (shuffled_X, shuffled_Y). Minus the end case.\n",
        "    num_complete_minibatches = math.floor(m/mini_batch_size) # number of mini batches of size mini_batch_size in your partitionning\n",
        "    for k in range(0, num_complete_minibatches):\n",
        "        mini_batch_X = shuffled_X[:, k * mini_batch_size : k * mini_batch_size + mini_batch_size]\n",
        "        mini_batch_Y = shuffled_Y[:, k * mini_batch_size : k * mini_batch_size + mini_batch_size]\n",
        "        mini_batch = (mini_batch_X, mini_batch_Y)\n",
        "        mini_batches.append(mini_batch)\n",
        "    \n",
        "    # Handling the end case (last mini-batch < mini_batch_size)\n",
        "    if m % mini_batch_size != 0:\n",
        "        mini_batch_X = shuffled_X[:, num_complete_minibatches * mini_batch_size : m]\n",
        "        mini_batch_Y = shuffled_Y[:, num_complete_minibatches * mini_batch_size : m]\n",
        "        mini_batch = (mini_batch_X, mini_batch_Y)\n",
        "        mini_batches.append(mini_batch)\n",
        "    \n",
        "    return mini_batches\n",
        "\n",
        "def convert_to_one_hot(Y, C):\n",
        "    Y = np.eye(C)[Y.reshape(-1)].T\n",
        "    return Y\n",
        "\n",
        "\n",
        "def predict(X, parameters):\n",
        "    \n",
        "    W1 = tf.convert_to_tensor(parameters[\"W1\"])\n",
        "    b1 = tf.convert_to_tensor(parameters[\"b1\"])\n",
        "    W2 = tf.convert_to_tensor(parameters[\"W2\"])\n",
        "    b2 = tf.convert_to_tensor(parameters[\"b2\"])\n",
        "    W3 = tf.convert_to_tensor(parameters[\"W3\"])\n",
        "    b3 = tf.convert_to_tensor(parameters[\"b3\"])\n",
        "    \n",
        "    params = {\"W1\": W1,\n",
        "              \"b1\": b1,\n",
        "              \"W2\": W2,\n",
        "              \"b2\": b2,\n",
        "              \"W3\": W3,\n",
        "              \"b3\": b3}\n",
        "    \n",
        "    x = tf.placeholder(\"float\", [12288, 1])\n",
        "    \n",
        "    z3 = forward_propagation_for_predict(x, params)\n",
        "    p = tf.argmax(z3)\n",
        "    \n",
        "    sess = tf.Session()\n",
        "    prediction = sess.run(p, feed_dict = {x: X})\n",
        "        \n",
        "    return prediction\n",
        "\n",
        "def forward_propagation_for_predict(X, parameters):\n",
        "    \"\"\"\n",
        "    Implements the forward propagation for the model: LINEAR -> RELU -> LINEAR -> RELU -> LINEAR -> SOFTMAX\n",
        "    \n",
        "    Arguments:\n",
        "    X -- input dataset placeholder, of shape (input size, number of examples)\n",
        "    parameters -- python dictionary containing your parameters \"W1\", \"b1\", \"W2\", \"b2\", \"W3\", \"b3\"\n",
        "                  the shapes are given in initialize_parameters\n",
        "    Returns:\n",
        "    Z3 -- the output of the last LINEAR unit\n",
        "    \"\"\"\n",
        "    \n",
        "    # Retrieve the parameters from the dictionary \"parameters\" \n",
        "    W1 = parameters['W1']\n",
        "    b1 = parameters['b1']\n",
        "    W2 = parameters['W2']\n",
        "    b2 = parameters['b2']\n",
        "    W3 = parameters['W3']\n",
        "    b3 = parameters['b3'] \n",
        "                                                           # Numpy Equivalents:\n",
        "    Z1 = tf.add(tf.matmul(W1, X), b1)                      # Z1 = np.dot(W1, X) + b1\n",
        "    A1 = tf.nn.relu(Z1)                                    # A1 = relu(Z1)\n",
        "    Z2 = tf.add(tf.matmul(W2, A1), b2)                     # Z2 = np.dot(W2, a1) + b2\n",
        "    A2 = tf.nn.relu(Z2)                                    # A2 = relu(Z2)\n",
        "    Z3 = tf.add(tf.matmul(W3, A2), b3)                     # Z3 = np.dot(W3,Z2) + b3\n",
        "    \n",
        "    return Z3"
      ],
      "metadata": {
        "id": "xAkuXpgFRvLo"
      },
      "execution_count": 4,
      "outputs": []
    },
    {
      "cell_type": "code",
      "execution_count": 20,
      "metadata": {
        "id": "yYiadJc_PTZx"
      },
      "outputs": [],
      "source": [
        "import numpy as np \n",
        "import pandas as pd\n",
        "import math\n",
        "import h5py\n",
        "import tensorflow as tf\n",
        "import matplotlib.pyplot as plt\n",
        "from tensorflow.python.framework import ops\n"
      ]
    },
    {
      "cell_type": "code",
      "source": [
        "tf.compat.v1.disable_v2_behavior()"
      ],
      "metadata": {
        "id": "FKdje-P8Y5uo",
        "colab": {
          "base_uri": "https://localhost:8080/"
        },
        "outputId": "28074269-da13-4c5f-fb5d-4d565ee8d768"
      },
      "execution_count": 22,
      "outputs": [
        {
          "output_type": "stream",
          "name": "stderr",
          "text": [
            "WARNING:tensorflow:From /usr/local/lib/python3.7/dist-packages/tensorflow/python/compat/v2_compat.py:107: disable_resource_variables (from tensorflow.python.ops.variable_scope) is deprecated and will be removed in a future version.\n",
            "Instructions for updating:\n",
            "non-resource variables are not supported in the long term\n"
          ]
        }
      ]
    },
    {
      "cell_type": "code",
      "source": [
        "# matplotlib inline\n",
        "print(np.random.seed())"
      ],
      "metadata": {
        "id": "olvOjWlXQWQq",
        "colab": {
          "base_uri": "https://localhost:8080/"
        },
        "outputId": "df036d6f-4c52-43d1-d053-db11609c7141"
      },
      "execution_count": 8,
      "outputs": [
        {
          "output_type": "stream",
          "name": "stdout",
          "text": [
            "None\n"
          ]
        }
      ]
    },
    {
      "cell_type": "code",
      "source": [
        "# computing loss using tf\n",
        "y_hat = tf.constant(36,name='y_hat')\n",
        "y = tf.constant(39,name='y')\n",
        "\n",
        "loss =tf.Variable((y_hat-y)**2,name='loss')\n",
        "\n",
        "\n",
        "# when init is run later\n",
        "init = tf.compat.v1.global_variables_initializer()\n",
        "\n",
        "with tf.compat.v1.Session() as session: # create a seesion and run the output\n",
        "  session.run(init)           # initializes the variables\n",
        "  print(session.run(loss))    # print the loss\n"
      ],
      "metadata": {
        "colab": {
          "base_uri": "https://localhost:8080/"
        },
        "id": "zNlR31FfVRpF",
        "outputId": "aa058f70-02b1-4c0b-b412-2292b58f3007"
      },
      "execution_count": 23,
      "outputs": [
        {
          "output_type": "stream",
          "name": "stdout",
          "text": [
            "9\n"
          ]
        }
      ]
    },
    {
      "cell_type": "code",
      "source": [
        "a = tf.constant(2)\n",
        "b = tf.constant(10)\n",
        "c = tf.multiply(a,b)\n",
        "print(c)"
      ],
      "metadata": {
        "colab": {
          "base_uri": "https://localhost:8080/"
        },
        "id": "QeES0n4Qas3U",
        "outputId": "d94364aa-e7bd-429e-c65d-b194b0ac435b"
      },
      "execution_count": 12,
      "outputs": [
        {
          "output_type": "stream",
          "name": "stdout",
          "text": [
            "tf.Tensor(20, shape=(), dtype=int32)\n"
          ]
        }
      ]
    },
    {
      "cell_type": "code",
      "source": [
        "session = tf.compat.v1.Session()\n",
        "print(session.run(c))"
      ],
      "metadata": {
        "colab": {
          "base_uri": "https://localhost:8080/",
          "height": 328
        },
        "id": "0GXYxkDSayNc",
        "outputId": "d2194969-5740-4fdb-88cc-0e9224be3a89"
      },
      "execution_count": 24,
      "outputs": [
        {
          "output_type": "error",
          "ename": "AttributeError",
          "evalue": "ignored",
          "traceback": [
            "\u001b[0;31m---------------------------------------------------------------------------\u001b[0m",
            "\u001b[0;31mAttributeError\u001b[0m                            Traceback (most recent call last)",
            "\u001b[0;32m<ipython-input-24-1e9c586bab8d>\u001b[0m in \u001b[0;36m<module>\u001b[0;34m\u001b[0m\n\u001b[1;32m      1\u001b[0m \u001b[0msession\u001b[0m \u001b[0;34m=\u001b[0m \u001b[0mtf\u001b[0m\u001b[0;34m.\u001b[0m\u001b[0mcompat\u001b[0m\u001b[0;34m.\u001b[0m\u001b[0mv1\u001b[0m\u001b[0;34m.\u001b[0m\u001b[0mSession\u001b[0m\u001b[0;34m(\u001b[0m\u001b[0;34m)\u001b[0m\u001b[0;34m\u001b[0m\u001b[0;34m\u001b[0m\u001b[0m\n\u001b[0;32m----> 2\u001b[0;31m \u001b[0mprint\u001b[0m\u001b[0;34m(\u001b[0m\u001b[0msession\u001b[0m\u001b[0;34m.\u001b[0m\u001b[0mrun\u001b[0m\u001b[0;34m(\u001b[0m\u001b[0mc\u001b[0m\u001b[0;34m)\u001b[0m\u001b[0;34m)\u001b[0m\u001b[0;34m\u001b[0m\u001b[0;34m\u001b[0m\u001b[0m\n\u001b[0m",
            "\u001b[0;32m/usr/local/lib/python3.7/dist-packages/tensorflow/python/client/session.py\u001b[0m in \u001b[0;36mrun\u001b[0;34m(self, fetches, feed_dict, options, run_metadata)\u001b[0m\n\u001b[1;32m    966\u001b[0m     \u001b[0;32mtry\u001b[0m\u001b[0;34m:\u001b[0m\u001b[0;34m\u001b[0m\u001b[0;34m\u001b[0m\u001b[0m\n\u001b[1;32m    967\u001b[0m       result = self._run(None, fetches, feed_dict, options_ptr,\n\u001b[0;32m--> 968\u001b[0;31m                          run_metadata_ptr)\n\u001b[0m\u001b[1;32m    969\u001b[0m       \u001b[0;32mif\u001b[0m \u001b[0mrun_metadata\u001b[0m\u001b[0;34m:\u001b[0m\u001b[0;34m\u001b[0m\u001b[0;34m\u001b[0m\u001b[0m\n\u001b[1;32m    970\u001b[0m         \u001b[0mproto_data\u001b[0m \u001b[0;34m=\u001b[0m \u001b[0mtf_session\u001b[0m\u001b[0;34m.\u001b[0m\u001b[0mTF_GetBuffer\u001b[0m\u001b[0;34m(\u001b[0m\u001b[0mrun_metadata_ptr\u001b[0m\u001b[0;34m)\u001b[0m\u001b[0;34m\u001b[0m\u001b[0;34m\u001b[0m\u001b[0m\n",
            "\u001b[0;32m/usr/local/lib/python3.7/dist-packages/tensorflow/python/client/session.py\u001b[0m in \u001b[0;36m_run\u001b[0;34m(self, handle, fetches, feed_dict, options, run_metadata)\u001b[0m\n\u001b[1;32m   1174\u001b[0m     \u001b[0;31m# Create a fetch handler to take care of the structure of fetches.\u001b[0m\u001b[0;34m\u001b[0m\u001b[0;34m\u001b[0m\u001b[0;34m\u001b[0m\u001b[0m\n\u001b[1;32m   1175\u001b[0m     fetch_handler = _FetchHandler(\n\u001b[0;32m-> 1176\u001b[0;31m         self._graph, fetches, feed_dict_tensor, feed_handles=feed_handles)\n\u001b[0m\u001b[1;32m   1177\u001b[0m \u001b[0;34m\u001b[0m\u001b[0m\n\u001b[1;32m   1178\u001b[0m     \u001b[0;31m# Run request and get response.\u001b[0m\u001b[0;34m\u001b[0m\u001b[0;34m\u001b[0m\u001b[0;34m\u001b[0m\u001b[0m\n",
            "\u001b[0;32m/usr/local/lib/python3.7/dist-packages/tensorflow/python/client/session.py\u001b[0m in \u001b[0;36m__init__\u001b[0;34m(self, graph, fetches, feeds, feed_handles)\u001b[0m\n\u001b[1;32m    483\u001b[0m     \"\"\"\n\u001b[1;32m    484\u001b[0m     \u001b[0;32mwith\u001b[0m \u001b[0mgraph\u001b[0m\u001b[0;34m.\u001b[0m\u001b[0mas_default\u001b[0m\u001b[0;34m(\u001b[0m\u001b[0;34m)\u001b[0m\u001b[0;34m:\u001b[0m\u001b[0;34m\u001b[0m\u001b[0;34m\u001b[0m\u001b[0m\n\u001b[0;32m--> 485\u001b[0;31m       \u001b[0mself\u001b[0m\u001b[0;34m.\u001b[0m\u001b[0m_fetch_mapper\u001b[0m \u001b[0;34m=\u001b[0m \u001b[0m_FetchMapper\u001b[0m\u001b[0;34m.\u001b[0m\u001b[0mfor_fetch\u001b[0m\u001b[0;34m(\u001b[0m\u001b[0mfetches\u001b[0m\u001b[0;34m)\u001b[0m\u001b[0;34m\u001b[0m\u001b[0;34m\u001b[0m\u001b[0m\n\u001b[0m\u001b[1;32m    486\u001b[0m     \u001b[0mself\u001b[0m\u001b[0;34m.\u001b[0m\u001b[0m_fetches\u001b[0m \u001b[0;34m=\u001b[0m \u001b[0;34m[\u001b[0m\u001b[0;34m]\u001b[0m\u001b[0;34m\u001b[0m\u001b[0;34m\u001b[0m\u001b[0m\n\u001b[1;32m    487\u001b[0m     \u001b[0mself\u001b[0m\u001b[0;34m.\u001b[0m\u001b[0m_targets\u001b[0m \u001b[0;34m=\u001b[0m \u001b[0;34m[\u001b[0m\u001b[0;34m]\u001b[0m\u001b[0;34m\u001b[0m\u001b[0;34m\u001b[0m\u001b[0m\n",
            "\u001b[0;32m/usr/local/lib/python3.7/dist-packages/tensorflow/python/client/session.py\u001b[0m in \u001b[0;36mfor_fetch\u001b[0;34m(fetch)\u001b[0m\n\u001b[1;32m    274\u001b[0m         \u001b[0;32mif\u001b[0m \u001b[0misinstance\u001b[0m\u001b[0;34m(\u001b[0m\u001b[0mfetch\u001b[0m\u001b[0;34m,\u001b[0m \u001b[0mtensor_type\u001b[0m\u001b[0;34m)\u001b[0m\u001b[0;34m:\u001b[0m\u001b[0;34m\u001b[0m\u001b[0;34m\u001b[0m\u001b[0m\n\u001b[1;32m    275\u001b[0m           \u001b[0mfetches\u001b[0m\u001b[0;34m,\u001b[0m \u001b[0mcontraction_fn\u001b[0m \u001b[0;34m=\u001b[0m \u001b[0mfetch_fn\u001b[0m\u001b[0;34m(\u001b[0m\u001b[0mfetch\u001b[0m\u001b[0;34m)\u001b[0m\u001b[0;34m\u001b[0m\u001b[0;34m\u001b[0m\u001b[0m\n\u001b[0;32m--> 276\u001b[0;31m           \u001b[0;32mreturn\u001b[0m \u001b[0m_ElementFetchMapper\u001b[0m\u001b[0;34m(\u001b[0m\u001b[0mfetches\u001b[0m\u001b[0;34m,\u001b[0m \u001b[0mcontraction_fn\u001b[0m\u001b[0;34m)\u001b[0m\u001b[0;34m\u001b[0m\u001b[0;34m\u001b[0m\u001b[0m\n\u001b[0m\u001b[1;32m    277\u001b[0m     \u001b[0;31m# Did not find anything.\u001b[0m\u001b[0;34m\u001b[0m\u001b[0;34m\u001b[0m\u001b[0;34m\u001b[0m\u001b[0m\n\u001b[1;32m    278\u001b[0m     raise TypeError(f'Argument `fetch` = {fetch} has invalid type '\n",
            "\u001b[0;32m/usr/local/lib/python3.7/dist-packages/tensorflow/python/client/session.py\u001b[0m in \u001b[0;36m__init__\u001b[0;34m(self, fetches, contraction_fn)\u001b[0m\n\u001b[1;32m    303\u001b[0m       \u001b[0;32mtry\u001b[0m\u001b[0;34m:\u001b[0m\u001b[0;34m\u001b[0m\u001b[0;34m\u001b[0m\u001b[0m\n\u001b[1;32m    304\u001b[0m         self._unique_fetches.append(ops.get_default_graph().as_graph_element(\n\u001b[0;32m--> 305\u001b[0;31m             fetch, allow_tensor=True, allow_operation=True))\n\u001b[0m\u001b[1;32m    306\u001b[0m       \u001b[0;32mexcept\u001b[0m \u001b[0mTypeError\u001b[0m \u001b[0;32mas\u001b[0m \u001b[0me\u001b[0m\u001b[0;34m:\u001b[0m\u001b[0;34m\u001b[0m\u001b[0;34m\u001b[0m\u001b[0m\n\u001b[1;32m    307\u001b[0m         raise TypeError(f'Argument `fetch` = {fetch} has invalid type '\n",
            "\u001b[0;32m/usr/local/lib/python3.7/dist-packages/tensorflow/python/framework/ops.py\u001b[0m in \u001b[0;36mas_graph_element\u001b[0;34m(self, obj, allow_tensor, allow_operation)\u001b[0m\n\u001b[1;32m   3972\u001b[0m \u001b[0;34m\u001b[0m\u001b[0m\n\u001b[1;32m   3973\u001b[0m     \u001b[0;32mwith\u001b[0m \u001b[0mself\u001b[0m\u001b[0;34m.\u001b[0m\u001b[0m_lock\u001b[0m\u001b[0;34m:\u001b[0m\u001b[0;34m\u001b[0m\u001b[0;34m\u001b[0m\u001b[0m\n\u001b[0;32m-> 3974\u001b[0;31m       \u001b[0;32mreturn\u001b[0m \u001b[0mself\u001b[0m\u001b[0;34m.\u001b[0m\u001b[0m_as_graph_element_locked\u001b[0m\u001b[0;34m(\u001b[0m\u001b[0mobj\u001b[0m\u001b[0;34m,\u001b[0m \u001b[0mallow_tensor\u001b[0m\u001b[0;34m,\u001b[0m \u001b[0mallow_operation\u001b[0m\u001b[0;34m)\u001b[0m\u001b[0;34m\u001b[0m\u001b[0;34m\u001b[0m\u001b[0m\n\u001b[0m\u001b[1;32m   3975\u001b[0m \u001b[0;34m\u001b[0m\u001b[0m\n\u001b[1;32m   3976\u001b[0m   \u001b[0;32mdef\u001b[0m \u001b[0m_as_graph_element_locked\u001b[0m\u001b[0;34m(\u001b[0m\u001b[0mself\u001b[0m\u001b[0;34m,\u001b[0m \u001b[0mobj\u001b[0m\u001b[0;34m,\u001b[0m \u001b[0mallow_tensor\u001b[0m\u001b[0;34m,\u001b[0m \u001b[0mallow_operation\u001b[0m\u001b[0;34m)\u001b[0m\u001b[0;34m:\u001b[0m\u001b[0;34m\u001b[0m\u001b[0;34m\u001b[0m\u001b[0m\n",
            "\u001b[0;32m/usr/local/lib/python3.7/dist-packages/tensorflow/python/framework/ops.py\u001b[0m in \u001b[0;36m_as_graph_element_locked\u001b[0;34m(self, obj, allow_tensor, allow_operation)\u001b[0m\n\u001b[1;32m   4050\u001b[0m     \u001b[0;32melif\u001b[0m \u001b[0misinstance\u001b[0m\u001b[0;34m(\u001b[0m\u001b[0mobj\u001b[0m\u001b[0;34m,\u001b[0m \u001b[0mTensor\u001b[0m\u001b[0;34m)\u001b[0m \u001b[0;32mand\u001b[0m \u001b[0mallow_tensor\u001b[0m\u001b[0;34m:\u001b[0m\u001b[0;34m\u001b[0m\u001b[0;34m\u001b[0m\u001b[0m\n\u001b[1;32m   4051\u001b[0m       \u001b[0;31m# Actually obj is just the object it's referring to.\u001b[0m\u001b[0;34m\u001b[0m\u001b[0;34m\u001b[0m\u001b[0;34m\u001b[0m\u001b[0m\n\u001b[0;32m-> 4052\u001b[0;31m       \u001b[0;32mif\u001b[0m \u001b[0mobj\u001b[0m\u001b[0;34m.\u001b[0m\u001b[0mgraph\u001b[0m \u001b[0;32mis\u001b[0m \u001b[0;32mnot\u001b[0m \u001b[0mself\u001b[0m\u001b[0;34m:\u001b[0m\u001b[0;34m\u001b[0m\u001b[0;34m\u001b[0m\u001b[0m\n\u001b[0m\u001b[1;32m   4053\u001b[0m         \u001b[0;32mraise\u001b[0m \u001b[0mValueError\u001b[0m\u001b[0;34m(\u001b[0m\u001b[0;34m\"Tensor %s is not an element of this graph.\"\u001b[0m \u001b[0;34m%\u001b[0m \u001b[0mobj\u001b[0m\u001b[0;34m)\u001b[0m\u001b[0;34m\u001b[0m\u001b[0;34m\u001b[0m\u001b[0m\n\u001b[1;32m   4054\u001b[0m       \u001b[0;32mreturn\u001b[0m \u001b[0mobj\u001b[0m\u001b[0;34m\u001b[0m\u001b[0;34m\u001b[0m\u001b[0m\n",
            "\u001b[0;32m/usr/local/lib/python3.7/dist-packages/tensorflow/python/framework/ops.py\u001b[0m in \u001b[0;36m__getattr__\u001b[0;34m(self, name)\u001b[0m\n\u001b[1;32m    511\u001b[0m         \u001b[0;32mfrom\u001b[0m \u001b[0mtensorflow\u001b[0m\u001b[0;34m.\u001b[0m\u001b[0mpython\u001b[0m\u001b[0;34m.\u001b[0m\u001b[0mops\u001b[0m\u001b[0;34m.\u001b[0m\u001b[0mnumpy_ops\u001b[0m \u001b[0;32mimport\u001b[0m \u001b[0mnp_config\u001b[0m\u001b[0;34m\u001b[0m\u001b[0;34m\u001b[0m\u001b[0m\n\u001b[1;32m    512\u001b[0m         np_config.enable_numpy_behavior()\"\"\".format(type(self).__name__, name))\n\u001b[0;32m--> 513\u001b[0;31m     \u001b[0mself\u001b[0m\u001b[0;34m.\u001b[0m\u001b[0m__getattribute__\u001b[0m\u001b[0;34m(\u001b[0m\u001b[0mname\u001b[0m\u001b[0;34m)\u001b[0m\u001b[0;34m\u001b[0m\u001b[0;34m\u001b[0m\u001b[0m\n\u001b[0m\u001b[1;32m    514\u001b[0m \u001b[0;34m\u001b[0m\u001b[0m\n\u001b[1;32m    515\u001b[0m   \u001b[0;34m@\u001b[0m\u001b[0mstaticmethod\u001b[0m\u001b[0;34m\u001b[0m\u001b[0;34m\u001b[0m\u001b[0m\n",
            "\u001b[0;32m/usr/local/lib/python3.7/dist-packages/tensorflow/python/framework/ops.py\u001b[0m in \u001b[0;36mgraph\u001b[0;34m(self)\u001b[0m\n\u001b[1;32m   1378\u001b[0m   \u001b[0;32mdef\u001b[0m \u001b[0mgraph\u001b[0m\u001b[0;34m(\u001b[0m\u001b[0mself\u001b[0m\u001b[0;34m)\u001b[0m\u001b[0;34m:\u001b[0m\u001b[0;34m\u001b[0m\u001b[0;34m\u001b[0m\u001b[0m\n\u001b[1;32m   1379\u001b[0m     raise AttributeError(\n\u001b[0;32m-> 1380\u001b[0;31m         \"Tensor.graph is meaningless when eager execution is enabled.\")\n\u001b[0m\u001b[1;32m   1381\u001b[0m \u001b[0;34m\u001b[0m\u001b[0m\n\u001b[1;32m   1382\u001b[0m   \u001b[0;34m@\u001b[0m\u001b[0mproperty\u001b[0m\u001b[0;34m\u001b[0m\u001b[0;34m\u001b[0m\u001b[0m\n",
            "\u001b[0;31mAttributeError\u001b[0m: Tensor.graph is meaningless when eager execution is enabled."
          ]
        }
      ]
    },
    {
      "cell_type": "code",
      "source": [
        "# placeholder: change the value of x in the feed_dict\n",
        "x = tf.compat.v1.placeholder(tf.int64,name='x')\n",
        "print(session.run(2*x,feed_dict={x:3}))\n",
        "session.close\n"
      ],
      "metadata": {
        "colab": {
          "base_uri": "https://localhost:8080/"
        },
        "id": "NQkWyqbBeQXK",
        "outputId": "eacd32bd-44cc-4b87-e3d8-530ec0a50c5b"
      },
      "execution_count": 26,
      "outputs": [
        {
          "output_type": "stream",
          "name": "stdout",
          "text": [
            "6\n"
          ]
        },
        {
          "output_type": "execute_result",
          "data": {
            "text/plain": [
              "<bound method BaseSession.close of <tensorflow.python.client.session.Session object at 0x7fd2f8adcd10>>"
            ]
          },
          "metadata": {},
          "execution_count": 26
        }
      ]
    },
    {
      "cell_type": "code",
      "source": [
        "# Linear Function\n",
        "def linear_function():\n",
        "  X = tf.constant(np.random.randn(3,1),name='X')\n",
        "  W = tf.constant(np.random.randn(4,3),name='W')\n",
        "  b = tf.constant(np.random.randn(4,1),name='b')\n",
        "  Y = tf.add(tf.matmul(W,X),b)\n",
        "\n",
        "  session = tf.compat.v1.Session()\n",
        "  result = session.run(Y)\n",
        "  session.close\n",
        "\n",
        "  return result\n"
      ],
      "metadata": {
        "id": "nVQcOcm0fLKv"
      },
      "execution_count": 27,
      "outputs": []
    },
    {
      "cell_type": "code",
      "source": [
        "print(\"result = \"+str(linear_function()))"
      ],
      "metadata": {
        "colab": {
          "base_uri": "https://localhost:8080/"
        },
        "id": "Rb3jUCNZhaWl",
        "outputId": "48fb8eba-7c88-4047-b754-3fca716b2c9c"
      },
      "execution_count": 28,
      "outputs": [
        {
          "output_type": "stream",
          "name": "stdout",
          "text": [
            "result = [[-0.1275718 ]\n",
            " [ 0.26334114]\n",
            " [ 0.08492983]\n",
            " [-0.73401151]]\n"
          ]
        }
      ]
    },
    {
      "cell_type": "code",
      "source": [
        "# sigmoid function\n",
        "def sigmoid(z):\n",
        "  x = tf.compat.v1.placeholder(tf.float32,name='x')\n",
        "  sigmoid = tf.sigmoid(x)\n",
        "\n",
        "  with tf.compat.v1.Session() as session:\n",
        "    result = session.run(sigmoid,feed_dict ={x:z})\n",
        "  return result\n"
      ],
      "metadata": {
        "id": "txgYhkFfjXhd"
      },
      "execution_count": 29,
      "outputs": []
    },
    {
      "cell_type": "code",
      "source": [
        "print(sigmoid(2))"
      ],
      "metadata": {
        "colab": {
          "base_uri": "https://localhost:8080/"
        },
        "id": "VNf0KXyHmAGZ",
        "outputId": "58e3cbfc-6a0c-4628-a157-b449ebb54fad"
      },
      "execution_count": 30,
      "outputs": [
        {
          "output_type": "stream",
          "name": "stdout",
          "text": [
            "0.8807971\n"
          ]
        }
      ]
    },
    {
      "cell_type": "code",
      "source": [
        "## cost function\n",
        "def cost(logits,labels):\n",
        "  z = tf.compat.v1.placeholder(tf.float32,name='z')\n",
        "  y = tf.compat.v1.placeholder(tf.float32,name='y')\n",
        "  cost = tf.nn.sigmoid_cross_entropy_with_logits(logits=z,labels=y)\n",
        "  sess = tf.compat.v1.Session()\n",
        "  cost = sess.run(cost,feed_dict={z:logits,y:labels})\n",
        "  sess.close()\n",
        "  return cost"
      ],
      "metadata": {
        "id": "I26ItWaoJ-OF"
      },
      "execution_count": 31,
      "outputs": []
    },
    {
      "cell_type": "code",
      "source": [
        "print(cost(5,4))"
      ],
      "metadata": {
        "colab": {
          "base_uri": "https://localhost:8080/"
        },
        "id": "gg5kZK8OL_DS",
        "outputId": "1092434e-1883-4b5c-d041-224b3e7ab9cf"
      },
      "execution_count": 32,
      "outputs": [
        {
          "output_type": "stream",
          "name": "stdout",
          "text": [
            "-14.993284\n"
          ]
        }
      ]
    },
    {
      "cell_type": "code",
      "source": [
        "# one-hot encoding\n",
        "def one_hot_matrix(labels,C):\n",
        "  C = tf.constant(C,name='C')\n",
        "  one_hot_matrix = tf.one_hot(labels,C,axis=0)\n",
        "  sess = tf.compat.v1.Session()\n",
        "  one_hot = sess.run(one_hot_matrix)\n",
        "  sess.close()\n",
        "  return one_hot\n",
        "\n"
      ],
      "metadata": {
        "id": "Rok490S0MFn6"
      },
      "execution_count": 33,
      "outputs": []
    },
    {
      "cell_type": "code",
      "source": [
        "print(one_hot_matrix(3,5))"
      ],
      "metadata": {
        "colab": {
          "base_uri": "https://localhost:8080/"
        },
        "id": "usg6324XOf2K",
        "outputId": "bde74778-7c85-44ae-918a-b9b4b2bf6c6e"
      },
      "execution_count": 34,
      "outputs": [
        {
          "output_type": "stream",
          "name": "stdout",
          "text": [
            "[0. 0. 0. 1. 0.]\n"
          ]
        }
      ]
    },
    {
      "cell_type": "code",
      "source": [
        "# ones\n",
        "def ones(shape):\n",
        "  ones = tf.ones(shape)\n",
        "  sess = tf.compat.v1.Session()\n",
        "  ones = sess.run(ones)\n",
        "  sess.close()\n",
        "  return ones\n",
        "print(ones((5,4)))"
      ],
      "metadata": {
        "colab": {
          "base_uri": "https://localhost:8080/"
        },
        "id": "Gw86E2aoOoyi",
        "outputId": "2ceb72ce-dd40-4240-b4b6-0643de0aadbb"
      },
      "execution_count": 35,
      "outputs": [
        {
          "output_type": "stream",
          "name": "stdout",
          "text": [
            "[[1. 1. 1. 1.]\n",
            " [1. 1. 1. 1.]\n",
            " [1. 1. 1. 1.]\n",
            " [1. 1. 1. 1.]\n",
            " [1. 1. 1. 1.]]\n"
          ]
        }
      ]
    },
    {
      "cell_type": "code",
      "source": [
        "# signs dataset\n",
        "X_train_orig, Y_train_orig, X_test_orig, Y_test_orig, classes=load_dataset()"
      ],
      "metadata": {
        "id": "2D5t1Pk9PWeK"
      },
      "execution_count": 36,
      "outputs": []
    },
    {
      "cell_type": "code",
      "source": [
        "# Example of a pic\n",
        "index = 0 \n",
        "plt.imshow(X_train_orig[index])\n",
        "print(\"y= \"+str(np.squeeze(Y_train_orig[:,index])))\n"
      ],
      "metadata": {
        "colab": {
          "base_uri": "https://localhost:8080/",
          "height": 285
        },
        "id": "cnRl4Jzofd3x",
        "outputId": "e9d58e88-5921-4cea-9c5f-cf38a90ef40c"
      },
      "execution_count": 37,
      "outputs": [
        {
          "output_type": "stream",
          "name": "stdout",
          "text": [
            "y= 5\n"
          ]
        },
        {
          "output_type": "display_data",
          "data": {
            "text/plain": [
              "<Figure size 432x288 with 1 Axes>"
            ],
            "image/png": "[encoded data removed]"
          },
          "metadata": {
            "needs_background": "light"
          }
        }
      ]
    },
    {
      "cell_type": "code",
      "source": [
        "print(Y_train_orig.shape)"
      ],
      "metadata": {
        "colab": {
          "base_uri": "https://localhost:8080/"
        },
        "id": "3Tivtzdg0mBR",
        "outputId": "d9c93ffe-dc2c-4603-ea68-7f02bd0a2a64"
      },
      "execution_count": 38,
      "outputs": [
        {
          "output_type": "stream",
          "name": "stdout",
          "text": [
            "(1, 1080)\n"
          ]
        }
      ]
    },
    {
      "cell_type": "code",
      "source": [
        "# Flatten the training and test images\n",
        "X_train_flatten = X_train_orig.reshape(X_train_orig.shape[0],-1).T\n",
        "X_test_flatten = X_test_orig.reshape(X_test_orig.shape[0],-1).T\n",
        "# Normalize Image vector\n",
        "X_train = X_train_flatten/255\n",
        "X_test = X_test_flatten/255\n",
        "# convert training and test labels to one hot matrices\n",
        "Y_train = convert_to_one_hot(Y_train_orig,6)\n",
        "Y_test = convert_to_one_hot(Y_test_orig,6)\n",
        "\n",
        "print(\"Number of training examples :\" + str(X_train.shape[1]))\n",
        "print(\"Number of test examples :\" + str(X_test.shape[1]))\n",
        "print(\"X_train shape :\" + str(X_train.shape))\n",
        "print(\"X_test shape :\" + str(X_test.shape))\n",
        "print(\"Y_train shape :\" + str(Y_train.shape))\n",
        "print(\"Y_test shape :\" + str(Y_test.shape))\n",
        "\n",
        "\n",
        "\n"
      ],
      "metadata": {
        "colab": {
          "base_uri": "https://localhost:8080/"
        },
        "id": "2xpGQpsYoppe",
        "outputId": "c25e87cf-21a4-46e2-d0fb-174d5339d031"
      },
      "execution_count": 39,
      "outputs": [
        {
          "output_type": "stream",
          "name": "stdout",
          "text": [
            "Number of training examples :1080\n",
            "Number of test examples :120\n",
            "X_train shape :(12288, 1080)\n",
            "X_test shape :(12288, 120)\n",
            "Y_train shape :(6, 1080)\n",
            "Y_test shape :(6, 120)\n"
          ]
        }
      ]
    },
    {
      "cell_type": "code",
      "source": [
        "# Create placeholder\n",
        "def create_placeholder(n_x,n_y):\n",
        "  X = tf.compat.v1.placeholder(tf.float32,[n_x,None],name='X')\n",
        "  Y = tf.compat.v1.placeholder(tf.float32,[n_y,None],name='Y')\n",
        "  return X,Y\n",
        "\n",
        "X,Y = create_placeholder(12288,6)\n",
        "print('x :'+str(X))\n",
        "print('Y :'+str(Y))"
      ],
      "metadata": {
        "id": "uH8DTOcdrfbR",
        "colab": {
          "base_uri": "https://localhost:8080/"
        },
        "outputId": "edfa9f05-ade2-4de0-8f87-36bc9df5531f"
      },
      "execution_count": 40,
      "outputs": [
        {
          "output_type": "stream",
          "name": "stdout",
          "text": [
            "x :Tensor(\"X_3:0\", shape=(12288, ?), dtype=float32)\n",
            "Y :Tensor(\"Y_2:0\", shape=(6, ?), dtype=float32)\n"
          ]
        }
      ]
    },
    {
      "cell_type": "code",
      "source": [
        "# initialize parameters\n",
        "def initialize_parameters():\n",
        "  tf.compat.v1.set_random_seed(1)\n",
        "  W1 = tf.compat.v1.get_variable('W1',[25,12288],initializer=tf.initializers.GlorotUniform())\n",
        "  b1 = tf.compat.v1.get_variable('b1',[25,1],initializer=tf.zeros_initializer())\n",
        "  W2 = tf.compat.v1.get_variable('W2',[12,25],initializer=tf.initializers.GlorotUniform())\n",
        "  b2 = tf.compat.v1.get_variable('b2',[12,1],initializer=tf.zeros_initializer())\n",
        "  W3 = tf.compat.v1.get_variable('W3',[6,12],initializer= tf.initializers.GlorotUniform())\n",
        "  b3 = tf.compat.v1.get_variable('b3',[6,1],initializer=tf.zeros_initializer())\n",
        "\n",
        "  parameters = {\"W1\":W1,\n",
        "                \"b1\":b1,\n",
        "                \"W2\":W2,\n",
        "                \"b2\":b2,\n",
        "                \"W3\":W3,\n",
        "                \"b3\":b3}\n",
        "\n",
        "  return parameters\n",
        "\n",
        "  tf.reset_default_graph()\n",
        "\n",
        "  with tf.Session as sess:\n",
        "    parameters = initialize_parameters()\n",
        "\n",
        "    print('W1'+str(parameters[\"W1\"]))\n",
        "    print('b1'+str(parameters[\"b1\"]))\n",
        "    print('W2'+str(parameters[\"W2\"]))\n",
        "    print('b2'+str(parameters[\"b2\"]))\n",
        "\n",
        "\n",
        "\n",
        "\n",
        "\n",
        "\n",
        "\n"
      ],
      "metadata": {
        "id": "a7D5w1hRDDaq"
      },
      "execution_count": 41,
      "outputs": []
    },
    {
      "cell_type": "code",
      "source": [
        "# forward_propagation\n",
        "def forward_propagation(X,parameters):\n",
        "  W1 = parameters['W1']\n",
        "  b1 = parameters['b1']\n",
        "  W2 = parameters['W2']\n",
        "  b2 = parameters['b2']\n",
        "  W3 = parameters['W3']\n",
        "  b3 = parameters['b3']\n",
        "  Z1 = tf.add(tf.matmul(W1,X),b1)\n",
        "  A1 = tf.nn.relu(Z1)\n",
        "  Z2 = tf.add(tf.matmul(W2,A1),b2)\n",
        "  A2 = tf.nn.relu(Z2)\n",
        "  Z3 = tf.add(tf.matmul(W3,A2),b3)\n",
        "  return Z3\n",
        "\n",
        "\n"
      ],
      "metadata": {
        "id": "Vs030o7gmDtt"
      },
      "execution_count": 42,
      "outputs": []
    },
    {
      "cell_type": "code",
      "source": [
        "tf.compat.v1.reset_default_graph()\n",
        "\n",
        "with tf.compat.v1.Session() as sess:\n",
        "  X,Y = create_placeholder(12288,6)\n",
        "  parameters = initialize_parameters()\n",
        "  Z3 = forward_propagation(X,parameters)\n",
        "  print('Z3'+str(Z3))"
      ],
      "metadata": {
        "id": "eKS2wksRuNn2",
        "colab": {
          "base_uri": "https://localhost:8080/"
        },
        "outputId": "4f7242b9-7c0f-4514-a0ca-f86445bff09e"
      },
      "execution_count": 43,
      "outputs": [
        {
          "output_type": "stream",
          "name": "stdout",
          "text": [
            "Z3Tensor(\"Add_2:0\", shape=(6, ?), dtype=float32)\n"
          ]
        }
      ]
    },
    {
      "cell_type": "code",
      "source": [
        "# cost function\n",
        "def compute_cost(Z3,Y):\n",
        "  logits = tf.transpose(Z3)\n",
        "  labels = tf.transpose(Y)\n",
        "  cost = tf.reduce_mean(tf.nn.softmax_cross_entropy_with_logits(logits=logits,labels=labels))\n",
        "  return cost"
      ],
      "metadata": {
        "id": "AAUXCQ4x9P6v"
      },
      "execution_count": 44,
      "outputs": []
    },
    {
      "cell_type": "code",
      "source": [
        "tf.compat.v1.reset_default_graph()\n",
        "\n",
        "with tf.compat.v1.Session() as sess:\n",
        "  X,Y = create_placeholder(12288,6)\n",
        "  parameters  = initialize_parameters()\n",
        "  Z3 = forward_propagation(X,parameters)\n",
        "  cost = compute_cost(Z3,Y)\n",
        "  print(\"Z3 = \"+str(cost))\n",
        "  "
      ],
      "metadata": {
        "colab": {
          "base_uri": "https://localhost:8080/"
        },
        "id": "33knjf4L_i0O",
        "outputId": "43919c27-61a6-4479-a9e2-2b58b6c5f599"
      },
      "execution_count": 45,
      "outputs": [
        {
          "output_type": "stream",
          "name": "stdout",
          "text": [
            "Z3 = Tensor(\"Mean:0\", shape=(), dtype=float32)\n"
          ]
        }
      ]
    },
    {
      "cell_type": "code",
      "source": [
        "# backward propagation \n",
        "optimizer = tf.train.GradientDescentOptimizer(learning_rate=learning_rate).minimize(cost)\n",
        "c = sess.run([optimizer,cost],feed_dict={X:minibatch_X,Y:minibatch_y})"
      ],
      "metadata": {
        "colab": {
          "base_uri": "https://localhost:8080/",
          "height": 200
        },
        "id": "XcLKQ7YQEnEY",
        "outputId": "c32502b2-20d2-4f21-d2f1-f8e44748c42b"
      },
      "execution_count": 46,
      "outputs": [
        {
          "output_type": "error",
          "ename": "AttributeError",
          "evalue": "ignored",
          "traceback": [
            "\u001b[0;31m---------------------------------------------------------------------------\u001b[0m",
            "\u001b[0;31mAttributeError\u001b[0m                            Traceback (most recent call last)",
            "\u001b[0;32m<ipython-input-46-b19eee123d70>\u001b[0m in \u001b[0;36m<module>\u001b[0;34m\u001b[0m\n\u001b[1;32m      1\u001b[0m \u001b[0;31m# backward propagation\u001b[0m\u001b[0;34m\u001b[0m\u001b[0;34m\u001b[0m\u001b[0;34m\u001b[0m\u001b[0m\n\u001b[0;32m----> 2\u001b[0;31m \u001b[0moptimizer\u001b[0m \u001b[0;34m=\u001b[0m \u001b[0mtf\u001b[0m\u001b[0;34m.\u001b[0m\u001b[0mtrain\u001b[0m\u001b[0;34m.\u001b[0m\u001b[0mGradientDescentOptimizer\u001b[0m\u001b[0;34m(\u001b[0m\u001b[0mlearning_rate\u001b[0m\u001b[0;34m=\u001b[0m\u001b[0mlearning_rate\u001b[0m\u001b[0;34m)\u001b[0m\u001b[0;34m.\u001b[0m\u001b[0mminimize\u001b[0m\u001b[0;34m(\u001b[0m\u001b[0mcost\u001b[0m\u001b[0;34m)\u001b[0m\u001b[0;34m\u001b[0m\u001b[0;34m\u001b[0m\u001b[0m\n\u001b[0m\u001b[1;32m      3\u001b[0m \u001b[0mc\u001b[0m \u001b[0;34m=\u001b[0m \u001b[0msess\u001b[0m\u001b[0;34m.\u001b[0m\u001b[0mrun\u001b[0m\u001b[0;34m(\u001b[0m\u001b[0;34m[\u001b[0m\u001b[0moptimizer\u001b[0m\u001b[0;34m,\u001b[0m\u001b[0mcost\u001b[0m\u001b[0;34m]\u001b[0m\u001b[0;34m,\u001b[0m\u001b[0mfeed_dict\u001b[0m\u001b[0;34m=\u001b[0m\u001b[0;34m{\u001b[0m\u001b[0mX\u001b[0m\u001b[0;34m:\u001b[0m\u001b[0mminibatch_X\u001b[0m\u001b[0;34m,\u001b[0m\u001b[0mY\u001b[0m\u001b[0;34m:\u001b[0m\u001b[0mminibatch_y\u001b[0m\u001b[0;34m}\u001b[0m\u001b[0;34m)\u001b[0m\u001b[0;34m\u001b[0m\u001b[0;34m\u001b[0m\u001b[0m\n",
            "\u001b[0;31mAttributeError\u001b[0m: module 'tensorflow._api.v2.train' has no attribute 'GradientDescentOptimizer'"
          ]
        }
      ]
    },
    {
      "cell_type": "code",
      "source": [
        "# building the model\n",
        "def model(X_train,Y_train,X_test,Y_test,learning_rate=0.0001,num_epochs=1500,minibatch_size=32,print_cost=True):\n",
        "  ops.reset_default_graph() # to be able to rerun the model without overwriting tf variables \n",
        "  tf.compat.v1.set_random_seed(1)  # to keep consistent results\n",
        "  seed=3                 # to keep consistent results\n",
        "  (n_x,m)=X_train.shape\n",
        "  n_y = Y_train.shape[0]\n",
        "  costs = []\n",
        "  X,Y = create_placeholder(n_x,n_y) # create placeholder of shape (n_x,n_y)\n",
        "  parameters = initialize_parameters() # initialize parameters\n",
        "  Z3 = forward_propagation(X,parameters) # forward propagation\n",
        "  cost = compute_cost(Z3,Y) # cost function\n",
        "  optimizer = tf.compat.v1.train.AdamOptimizer(learning_rate=learning_rate).minimize(cost) # Backpropagation Adamoptimizer\n",
        "  init = tf.compat.v1.global_variables_initializer()  # Initialize all the variables\n",
        "\n",
        "  with tf.compat.v1.Session() as sess:\n",
        "    sess.run(init)  # run the initializer\n",
        "    for epoch in range(num_epochs):\n",
        "      epoch_cost = 0  # define a cost\n",
        "      num_minibatches = int(m/minibatch_size)\n",
        "      seed = seed+1\n",
        "      minibatches = random_mini_batches(X_train,Y_train,minibatch_size,seed)\n",
        "\n",
        "      for minibatch in minibatches:\n",
        "        (minibatch_X,minibatch_Y) = minibatch\n",
        "        _,minibatch_cost = sess.run([optimizer,cost],feed_dict={X:minibatch_X,Y:minibatch_Y})\n",
        "        epoch_cost += minibatch_cost/num_minibatches\n",
        "# print the cost after every epoch\n",
        "      if print_cost == True and epoch % 100 ==0:\n",
        "          print('Cost after epoch %i:%f'%(epoch,epoch_cost))\n",
        "      if print_cost == True and epoch % 5 == 0:\n",
        "          costs.append(epoch_cost)\n",
        "\n",
        "    # plot the cost\n",
        "    plt.plot(np.squeeze(costs))\n",
        "    plt.ylabel('cost')\n",
        "    plt.xlabel('iterations (per tens)')\n",
        "    plt.title('Learning_rate='+str(learning_rate))\n",
        "    plt.show()\n",
        "    # saving parameters in a variable\n",
        "    parameters=sess.run(parameters)\n",
        "    print('parameters have been trained!')\n",
        "\n",
        "    # calculate the correct prediction\n",
        "    correct_prediction = tf.equal(tf.argmax(Z3),tf.argmax(Y))\n",
        "\n",
        "    # calculate accuracy on the test set\n",
        "    accuracy = tf.reduce_mean(tf.cast(correct_prediction,\"float\"))\n",
        "    print(\"Train Accuracy:\",accuracy.eval({X:X_train,Y:Y_train}))\n",
        "    print(\"Test Accuracy:\",accuracy.eval({X:X_test,Y:Y_test}))\n",
        "    return parameters\n",
        "\n",
        "parameters = model(X_train,Y_train,X_test,Y_test)\n",
        "\n",
        "\n",
        "\n",
        "\n",
        "\n",
        "\n",
        "\n",
        "\n",
        "\n",
        "\n"
      ],
      "metadata": {
        "colab": {
          "base_uri": "https://localhost:8080/",
          "height": 607
        },
        "id": "vUXZNHk4VX2I",
        "outputId": "7f4f5a8a-2e42-48da-8235-361bf084be1e"
      },
      "execution_count": 59,
      "outputs": [
        {
          "output_type": "stream",
          "name": "stdout",
          "text": [
            "Cost after epoch 0:1.855493\n",
            "Cost after epoch 100:1.846067\n",
            "Cost after epoch 200:1.846065\n",
            "Cost after epoch 300:1.846068\n",
            "Cost after epoch 400:1.846067\n",
            "Cost after epoch 500:1.846071\n",
            "Cost after epoch 600:1.846070\n",
            "Cost after epoch 700:1.846067\n",
            "Cost after epoch 800:1.846067\n",
            "Cost after epoch 900:1.846070\n",
            "Cost after epoch 1000:1.846062\n",
            "Cost after epoch 1100:1.846066\n",
            "Cost after epoch 1200:1.846070\n",
            "Cost after epoch 1300:1.846067\n",
            "Cost after epoch 1400:1.846072\n"
          ]
        },
        {
          "output_type": "display_data",
          "data": {
            "text/plain": [
              "<Figure size 432x288 with 1 Axes>"
            ],
            "image/png": "[encoded data removed]"
          },
          "metadata": {
            "needs_background": "light"
          }
        },
        {
          "output_type": "stream",
          "name": "stdout",
          "text": [
            "parameters have been trained!\n",
            "Train Accuracy: 0.16666667\n",
            "Test Accuracy: 0.16666667\n"
          ]
        }
      ]
    }
  ]
}